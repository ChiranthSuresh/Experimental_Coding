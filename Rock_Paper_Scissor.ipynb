{
  "nbformat": 4,
  "nbformat_minor": 0,
  "metadata": {
    "colab": {
      "name": "Rock,Paper,Scissor.ipynb",
      "provenance": []
    },
    "kernelspec": {
      "name": "python3",
      "display_name": "Python 3"
    }
  },
  "cells": [
    {
      "cell_type": "code",
      "metadata": {
        "id": "oSEqfW31i3sG",
        "outputId": "cef89b6d-8c87-42a1-e756-3b96591b51d3",
        "colab": {
          "base_uri": "https://localhost:8080/"
        }
      },
      "source": [
        "import random\n",
        "\n",
        "while True:\n",
        "    comp_list = [\"Rock\",\"paper\",\"Scissor\"]\n",
        "    user=input(\"Welcom, please choose an option:\")\n",
        "    if user in comp_list:\n",
        "        pass\n",
        "    else :\n",
        "        print(\"wrong input\")\n",
        "        continue\n",
        "    comp = random.choice(comp_list)\n",
        "    print(user,comp)"
      ],
      "execution_count": null,
      "outputs": [
        {
          "output_type": "stream",
          "text": [
            "Welcom, please choose an option:Rock\n",
            "Rock paper\n",
            "Welcom, please choose an option:paper\n",
            "paper Rock\n",
            "Welcom, please choose an option:Scissor\n",
            "Scissor Rock\n"
          ],
          "name": "stdout"
        }
      ]
    }
  ]
}
